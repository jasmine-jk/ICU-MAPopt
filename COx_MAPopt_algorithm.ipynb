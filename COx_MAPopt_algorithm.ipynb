{
 "cells": [
  {
   "cell_type": "markdown",
   "metadata": {},
   "source": [
    "# CONFOCAL Cerebral Oximetry (cerebral oximetry index, COx) and MAPopt Analysis"
   ]
  },
  {
   "cell_type": "code",
   "execution_count": null,
   "metadata": {},
   "outputs": [],
   "source": [
    "#Authors: Kevin FH Lee, MD, PhD and Jasmine M Khan, BSc"
   ]
  },
  {
   "cell_type": "code",
   "execution_count": null,
   "metadata": {
    "scrolled": true
   },
   "outputs": [],
   "source": [
    "import numpy as np\n",
    "import pandas as pd\n",
    "import matplotlib.pyplot as plt\n",
    "import statistics as sts\n",
    "import seaborn as sns\n",
    "from scipy.stats import spearmanr"
   ]
  },
  {
   "cell_type": "markdown",
   "metadata": {},
   "source": [
    "#### Import csv file with MAP and rSO2 data"
   ]
  },
  {
   "cell_type": "code",
   "execution_count": null,
   "metadata": {
    "scrolled": true
   },
   "outputs": [],
   "source": [
    "dat = pd.read_csv() #enter file location\n",
    "dat.head(10)"
   ]
  },
  {
   "cell_type": "markdown",
   "metadata": {},
   "source": []
  },
  {
   "cell_type": "code",
   "execution_count": null,
   "metadata": {
    "scrolled": true
   },
   "outputs": [],
   "source": [
    "# Obtain patient ID list\n",
    "patients = dat['subject_id'].drop_duplicates()\n",
    "\n",
    "## Set sliding window length\n",
    "window = 30\n",
    "print(patients)"
   ]
  },
  {
   "cell_type": "markdown",
   "metadata": {},
   "source": [
    "## COx analysis"
   ]
  },
  {
   "cell_type": "markdown",
   "metadata": {},
   "source": [
    "Define function for iterative correlation analysis"
   ]
  },
  {
   "cell_type": "code",
   "execution_count": null,
   "metadata": {
    "scrolled": true
   },
   "outputs": [],
   "source": [
    "def patient_COx_analysis(patient_id,window):\n",
    "    pt_COx = []    \n",
    "    pt_p = []    \n",
    "    pt_MAP = []\n",
    "    pt_rSO2 = []\n",
    "    pt_rec = []\n",
    "    subset = dat[dat['subject_id'] == patient_id]\n",
    "    rec_len = len(subset)         \n",
    "       \n",
    "    for k in range(0,rec_len-window):               \n",
    "        bp = subset['MAP'].iloc[k:k+window-1]       \n",
    "        ox = subset['rSO2'].iloc[k:k+window-1]\n",
    "        \n",
    "        coef,p = spearmanr(bp,ox)        \n",
    "        \n",
    "        pt_COx.append(coef)\n",
    "        pt_p.append(p)    \n",
    "        pt_MAP.append(sts.mean(bp))\n",
    "        pt_rSO2.append(sts.mean(ox))\n",
    "    return pd.Series(pt_COx),pd.Series(pt_p),pd.Series(pt_MAP),pd.Series(pt_rSO2)"
   ]
  },
  {
   "cell_type": "markdown",
   "metadata": {},
   "source": [
    "#### Iterative COx analysis through each patient"
   ]
  },
  {
   "cell_type": "code",
   "execution_count": null,
   "metadata": {
    "scrolled": false
   },
   "outputs": [],
   "source": [
    "output_COx = []\n",
    "output_p = []\n",
    "output_MAP = []\n",
    "output_rSO2 = []\n",
    "\n",
    "for patient in patients:\n",
    "    COx,p_vals,MAP,rSO2 = patient_COx_analysis(patient,window)\n",
    "    \n",
    "    output_COx.append(COx)\n",
    "    output_p.append(p_vals)\n",
    "    output_MAP.append(MAP)\n",
    "    output_rSO2.append(rSO2)\n",
    "    \n",
    "    print(patient)  "
   ]
  },
  {
   "cell_type": "code",
   "execution_count": null,
   "metadata": {
    "scrolled": true
   },
   "outputs": [],
   "source": [
    "## Concatenate analysis outputs COx and p-values into tables"
   ]
  },
  {
   "cell_type": "code",
   "execution_count": null,
   "metadata": {
    "scrolled": true
   },
   "outputs": [],
   "source": [
    "output_COx_concat = pd.concat(output_COx,axis = 1)\n",
    "output_p_concat = pd.concat(output_p,axis = 1)\n",
    "output_MAP_concat = pd.concat(output_MAP,axis = 1)\n",
    "output_rSO2_concat = pd.concat(output_rSO2,axis = 1)\n",
    "\n",
    "output_COx_concat.index = range(window,window+len(output_COx_concat))\n",
    "output_p_concat.index = range(window,window+len(output_p_concat))\n",
    "output_MAP_concat.index = range(window,window+len(output_MAP_concat))\n",
    "output_rSO2_concat.index = range(window,window+len(output_rSO2_concat))\n",
    "\n",
    "output_COx_concat.columns = patients\n",
    "output_p_concat.columns = patients\n",
    "output_MAP_concat.columns = patients\n",
    "output_rSO2_concat.columns = patients\n"
   ]
  },
  {
   "cell_type": "code",
   "execution_count": null,
   "metadata": {
    "scrolled": true
   },
   "outputs": [],
   "source": [
    "# Document recording lengths\n",
    "rec_nans = np.isnan(output_MAP_concat)\n",
    "#print(rec_nans)\n",
    "max = len(output_MAP_concat)\n",
    "rec_lengths = max - rec_nans.sum()\n",
    "#print(rec_lengths)"
   ]
  },
  {
   "cell_type": "code",
   "execution_count": null,
   "metadata": {
    "scrolled": true
   },
   "outputs": [],
   "source": [
    "plt.plot(output_COx_concat.loc[:,patients.iloc[0]])\n",
    "plt.plot(output_p_concat.loc[:,patients.iloc[0]],'.')\n",
    "plt.show()"
   ]
  },
  {
   "cell_type": "code",
   "execution_count": null,
   "metadata": {
    "scrolled": true
   },
   "outputs": [],
   "source": [
    "plt.plot(output_MAP_concat.loc[:,patients.iloc[0]],'b')\n",
    "plt.plot(output_rSO2_concat.loc[:,patients.iloc[0]],'r')"
   ]
  },
  {
   "cell_type": "code",
   "execution_count": null,
   "metadata": {
    "scrolled": true
   },
   "outputs": [],
   "source": [
    "# Analyze subset of statistically significant COx \n",
    "\n",
    "p_thresh = 0.0001\n",
    "p_thresh_mask = output_p_concat < p_thresh\n",
    "COx_sig = p_thresh_mask * output_COx_concat\n",
    "\n",
    "#p_thresh_mask.head()\n",
    "#COx_sig.head()"
   ]
  },
  {
   "cell_type": "code",
   "execution_count": null,
   "metadata": {
    "scrolled": true
   },
   "outputs": [],
   "source": [
    "plt.plot(COx_sig.loc[:,patients.iloc[0]],'.')\n",
    "#COx_sig.head()"
   ]
  },
  {
   "cell_type": "markdown",
   "metadata": {},
   "source": [
    "### Examine POSITIVE COx"
   ]
  },
  {
   "cell_type": "code",
   "execution_count": null,
   "metadata": {
    "scrolled": true
   },
   "outputs": [],
   "source": [
    "COx_pos = (COx_sig > 0) * COx_sig\n",
    "COx_pos.head()\n",
    "plt.plot(COx_pos.loc[:,patients.iloc[0]],'.')"
   ]
  },
  {
   "cell_type": "code",
   "execution_count": null,
   "metadata": {
    "scrolled": true
   },
   "outputs": [],
   "source": [
    "# Cumulative Time with Dysfunctional CA (mins)\n",
    "\n",
    "dysfCA_mincount = COx_pos > 0\n",
    "dysfCA_mincount.head()\n",
    "\n",
    "time_dysfCA = dysfCA_mincount.sum()\n",
    "print(time_dysfCA)\n"
   ]
  },
  {
   "cell_type": "code",
   "execution_count": null,
   "metadata": {
    "scrolled": true
   },
   "outputs": [],
   "source": [
    "#Proportion of time Dysfunctional\n",
    "\n",
    "prop_dysfCA = time_dysfCA/rec_lengths\n",
    "print(prop_dysfCA)\n"
   ]
  },
  {
   "cell_type": "markdown",
   "metadata": {},
   "source": [
    "#### Examine NEGATIVE COx only"
   ]
  },
  {
   "cell_type": "code",
   "execution_count": null,
   "metadata": {
    "scrolled": true
   },
   "outputs": [],
   "source": [
    "COx_neg = (COx_sig < 0) * COx_sig\n",
    "#COx_neg.head()\n",
    "#plt.plot(COx_pos.loc[:,patients.iloc[0]],'.')\n",
    "\n",
    "# Cumulative Time with Dysfunctional CA\n",
    "neg_mincount = COx_neg < 0\n",
    "neg_mincount.head()\n",
    "\n",
    "time_neg = neg_mincount.sum()\n",
    "#print(time_neg)\n",
    "\n",
    "prop_neg = time_neg/rec_lengths\n",
    "print(prop_neg)"
   ]
  },
  {
   "cell_type": "code",
   "execution_count": null,
   "metadata": {},
   "outputs": [],
   "source": [
    "# Create table with COx results\n",
    "\n",
    "cox_analysis = pd.DataFrame({'recording_length': rec_lengths,'time_dysfCA': time_dysfCA, 'prop_dysfCA': prop_dysfCA})\n",
    "cox_analysis.head()"
   ]
  },
  {
   "cell_type": "markdown",
   "metadata": {},
   "source": [
    "## Plotting"
   ]
  },
  {
   "cell_type": "code",
   "execution_count": null,
   "metadata": {
    "scrolled": true
   },
   "outputs": [],
   "source": [
    "print(patients)"
   ]
  },
  {
   "cell_type": "code",
   "execution_count": null,
   "metadata": {
    "scrolled": true
   },
   "outputs": [],
   "source": [
    "# enter patient ID\n",
    "patient = patients.iloc[0]\n",
    "\n",
    "plt.plot(output_MAP_concat.loc[:,patient],)\n",
    "plt.plot(output_rSO2_concat.loc[:,patient],'.')\n",
    "plt.ylabel('MAP'), plt.xlabel('time (min)')\n",
    "plt.show()\n",
    "\n",
    "plt.plot(output_COx_concat.loc[:,patient],'.')\n",
    "plt.plot(COx_pos.loc[:,patient],'ro')\n",
    "plt.ylabel('COx'), plt.xlabel('time (min)')\n",
    "plt.show()\n",
    "\n",
    "plt.plot(output_p_concat.loc[:,patient],'.')\n",
    "plt.ylabel('p-value'), plt.xlabel('time (min)')\n",
    "plt.show()\n"
   ]
  },
  {
   "cell_type": "markdown",
   "metadata": {},
   "source": [
    "## MAPopt Analysis\n"
   ]
  },
  {
   "cell_type": "code",
   "execution_count": null,
   "metadata": {},
   "outputs": [],
   "source": [
    "#Reformat data\n",
    "\n",
    "output_MAP_table = pd.concat(output_MAP,axis = 0, keys = patients)\n",
    "print(output_MAP_table)\n",
    "\n",
    "output_COx_table = pd.concat(output_COx,axis = 0, keys = patients)\n",
    "print(output_COx_table)"
   ]
  },
  {
   "cell_type": "code",
   "execution_count": null,
   "metadata": {},
   "outputs": [],
   "source": [
    "#Create variables\n",
    "\n",
    "mean_cox = np.mean(output_COx_concat)\n",
    "print(mean_cox)\n",
    "\n",
    "std_cox = np.std(output_COx_concat)\n",
    "print(std_cox)\n",
    "\n",
    "neg_std_cox = - (np.std(output_COx_concat))\n",
    "print(neg_std_cox)\n",
    "\n",
    "mean_map = np.mean(output_MAP_concat)\n",
    "print(mean_map)"
   ]
  },
  {
   "cell_type": "code",
   "execution_count": null,
   "metadata": {},
   "outputs": [],
   "source": [
    "# Calculate MAPopt and MAPopt boundaries\n",
    "\n",
    "COx_thresh_mask = []\n",
    "MAP_zero = [ ]\n",
    "MAPopt = []\n",
    "MAPopt_SD = []\n",
    "output_MAPopt = []\n",
    "output_MAP_SD = []\n",
    "MAPopt_lower = []\n",
    "MAPopt_upper = []\n",
    "output_MAPopt_lower = []\n",
    "output_MAPopt_upper = []\n",
    "\n",
    "\n",
    "for i in range(0,len(std_cox)):\n",
    "    COx_thresh_mask = abs(output_COx_concat.iloc[:,i]) < std_cox[i]\n",
    "    MAP_zero = COx_thresh_mask * output_MAP_concat.iloc[:,i]\n",
    "    MAP_zero = MAP_zero.replace(0, np.NaN)\n",
    "    MAPopt = np.mean(MAP_zero)\n",
    "    MAPopt_SD = np.std(MAP_zero)\n",
    "    MAPopt_lower = np.subtract(MAPopt, MAPopt_SD)\n",
    "    MAPopt_upper = np.add(MAPopt, MAPopt_SD)\n",
    "    \n",
    "    str(output_MAPopt.append(MAPopt))\n",
    "    str(output_MAP_SD.append(MAPopt_SD))\n",
    "    str(output_MAPopt_lower.append(MAPopt_lower))\n",
    "    str(output_MAPopt_upper.append(MAPopt_upper))\n",
    "\n",
    "\n",
    "map_boundaries = pd.DataFrame({'subject_id': patients,'MAPopt': output_MAPopt, 'MAPopt_SD': output_MAP_SD, 'MAPopt_lower': output_MAPopt_lower, 'MAPopt_upper': output_MAPopt_upper}) \n",
    "print(map_boundaries)\n"
   ]
  },
  {
   "cell_type": "code",
   "execution_count": null,
   "metadata": {},
   "outputs": [],
   "source": [
    "# Calculate area within and outside MAPopt\n",
    "\n",
    "area_outside = []\n",
    "area_map_opt = []\n",
    "prop_area_outside = []\n",
    "\n",
    "for i in patients:\n",
    "    area_above = 0\n",
    "    area_below = 0\n",
    "    area_within = 0\n",
    "    outside = 0\n",
    "    prop_outside = 0\n",
    "    \n",
    "    subset = dat[dat['subject_id'] == i]\n",
    "    rec_len = len(subset)\n",
    "    MAPopt_low = map_boundaries.MAPopt_lower[map_boundaries['subject_id'] == i]\n",
    "    MAPopt_low = MAPopt_low.to_numpy() \n",
    "    MAPopt_high = map_boundaries.MAPopt_upper[map_boundaries['subject_id'] == i]\n",
    "    MAPopt_high = MAPopt_high.to_numpy() \n",
    "    \n",
    "    for k in range(0, rec_len):\n",
    "        if subset.MAP.iloc[k] > MAPopt_high:\n",
    "            area_above = area_above + (subset.MAP.iloc[k] - MAPopt_high)\n",
    "        elif subset.MAP.iloc[k] < MAPopt_low:\n",
    "            area_below = area_below + (MAPopt_low - subset.MAP.iloc[k])\n",
    "        elif subset.MAP.iloc[k] <= MAPopt_high and subset.MAP.iloc[k] >= MAPopt_low:\n",
    "            area_within = area_within + (subset.MAP.iloc[k] - MAPopt_low)  \n",
    "            \n",
    "    outside = (area_above + area_below)\n",
    "    prop_outside = (outside / (outside + area_within))\n",
    "    \n",
    "    area_outside.append(outside)\n",
    "    area_map_opt.append(area_within)\n",
    "    str(prop_area_outside.append(prop_outside))\n",
    "    \n",
    "    #To create figures:\n",
    "    plt.figure()\n",
    "    plt.plot(subset.minute, subset.MAP,'b')\n",
    "    plt.axhline(y=MAPopt_low, color='g', linestyle='--')\n",
    "    plt.axhline(y=MAPopt_high, color='g', linestyle='--')\n",
    "    plt.ylabel('MAP (mmHg)'), plt.xlabel('Time (min)')\n",
    "    \n",
    "    #plt.savefig(\"MAPopt{i}.png\".format(i=i))  #to save plots as .png\n",
    "    \n",
    "#plt.close()"
   ]
  },
  {
   "cell_type": "code",
   "execution_count": null,
   "metadata": {},
   "outputs": [],
   "source": [
    "# Create table with MAPopt results\n",
    "\n",
    "map_analysis = pd.DataFrame({'subject_id': patients,'MAP_area_outside': area_outside, 'MAP_area_within': area_map_opt, 'prop_area_outside': prop_area_outside}) \n",
    "\n",
    "map_analysis['MAP_area_outside'] = map_analysis['MAP_area_outside'].str[0]\n",
    "map_analysis['MAP_area_within'] = map_analysis['MAP_area_within'].str[0]\n",
    "map_analysis['prop_area_outside'] = map_analysis['prop_area_outside'].str[0]\n",
    "\n",
    "map_analysis.head(32)\n"
   ]
  },
  {
   "cell_type": "code",
   "execution_count": null,
   "metadata": {},
   "outputs": [],
   "source": [
    "# Create summary file\n",
    "\n",
    "cox_map_summary = cox_analysis.merge(map_boundaries, on='subject_id', how='outer').merge(map_analysis, on='subject_id', how='outer')\n",
    "cox_map_summary.head()"
   ]
  },
  {
   "cell_type": "code",
   "execution_count": null,
   "metadata": {},
   "outputs": [],
   "source": [
    "# Save files\n",
    "\n",
    "cox_analysis.to_csv('_cox_analysis.csv')\n",
    "map_boundaries.to_csv('_map_boundaries.csv')\n",
    "map_analysis.to_csv('_map_analysis.csv')\n",
    "cox_map_summary.to_csv('_cox_map_summary.csv')"
   ]
  }
 ],
 "metadata": {
  "kernelspec": {
   "display_name": "Python 3",
   "language": "python",
   "name": "python3"
  },
  "language_info": {
   "codemirror_mode": {
    "name": "ipython",
    "version": 3
   },
   "file_extension": ".py",
   "mimetype": "text/x-python",
   "name": "python",
   "nbconvert_exporter": "python",
   "pygments_lexer": "ipython3",
   "version": "3.8.8"
  }
 },
 "nbformat": 4,
 "nbformat_minor": 4
}
